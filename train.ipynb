{
 "cells": [
  {
   "cell_type": "code",
   "execution_count": null,
   "id": "4af6e588",
   "metadata": {},
   "outputs": [],
   "source": [
    "import pandas as pd\n",
    "data = pd.read_csv(\"student-mat.csv\", sep = ';')\n",
    "data.head()\n"
   ]
  },
  {
   "cell_type": "code",
   "execution_count": null,
   "id": "fb8783ce",
   "metadata": {},
   "outputs": [],
   "source": [
    "binary_map = {\n",
    "    'school': {'GP': 0, 'MS': 1},\n",
    "    'sex': {'F': 0, 'M': 1},\n",
    "    'address': {'R': 0, 'U': 1},\n",
    "    'famsize': {'LE3': 0, 'GT3': 1},\n",
    "    'Pstatus': {'A': 0, 'T': 1},\n",
    "    'schoolsup': {'no': 0, 'yes': 1},\n",
    "    'famsup': {'no': 0, 'yes': 1},\n",
    "    'paid': {'no': 0, 'yes': 1},\n",
    "    'activities': {'no': 0, 'yes': 1},\n",
    "    'nursery': {'no': 0, 'yes': 1},\n",
    "    'higher': {'no': 0, 'yes': 1},\n",
    "    'internet': {'no': 0, 'yes': 1},\n",
    "    'romantic': {'no': 0, 'yes': 1},\n",
    "}\n",
    "for col , maping in binary_map.items():\n",
    "    data[col] = data[col].map(maping)\n",
    "data.head()"
   ]
  },
  {
   "cell_type": "code",
   "execution_count": 20,
   "id": "15251c1d",
   "metadata": {},
   "outputs": [],
   "source": [
    "from sklearn.model_selection import train_test_split\n",
    "features = ['school', 'sex', 'age', 'address', 'Pstatus', 'famsize', 'Medu', 'Fedu', 'studytime', 'failures', 'schoolsup', 'famsup', 'paid', 'nursery', 'higher', 'internet', 'romantic', 'absences', 'health', 'Dalc', 'Walc', 'G1', 'G2' ]\n",
    "X = data[features].values\n",
    "y = (data['G3'] >= 10).astype(int).values  # 1 = Pass, 0 = Fail\n",
    "X_train, X_test, y_train, y_test = train_test_split(X, y, test_size=0.2, random_state=42)"
   ]
  },
  {
   "cell_type": "code",
   "execution_count": 21,
   "id": "ad2ed4bc",
   "metadata": {},
   "outputs": [],
   "source": [
    "import dtree\n",
    "tree = dtree.build_tree(X_train, y_train, max_depth= 6)\n"
   ]
  },
  {
   "cell_type": "code",
   "execution_count": 22,
   "id": "e3d62444",
   "metadata": {},
   "outputs": [
    {
     "name": "stdout",
     "output_type": "stream",
     "text": [
      "Accuracy: 0.8734177215189873\n",
      "Confusion Matrix:\n",
      "[[22  5]\n",
      " [ 5 47]]\n"
     ]
    }
   ],
   "source": [
    "y_pred = dtree.predict(tree, X_test)\n",
    "from sklearn.metrics import accuracy_score, confusion_matrix\n",
    "\n",
    "print(\"Accuracy:\", accuracy_score(y_test, y_pred))\n",
    "print(\"Confusion Matrix:\")\n",
    "print(confusion_matrix(y_test, y_pred))\n",
    "\n"
   ]
  },
  {
   "cell_type": "code",
   "execution_count": 23,
   "id": "78395e45",
   "metadata": {},
   "outputs": [
    {
     "name": "stdout",
     "output_type": "stream",
     "text": [
      "Depth: 1, Accuracy: 0.9114\n",
      "Depth: 2, Accuracy: 0.9114\n",
      "Depth: 3, Accuracy: 0.8481\n",
      "Depth: 4, Accuracy: 0.8608\n",
      "Depth: 5, Accuracy: 0.8987\n",
      "Depth: 6, Accuracy: 0.8734\n",
      "Depth: 7, Accuracy: 0.8734\n",
      "Depth: 8, Accuracy: 0.8734\n",
      "Depth: 9, Accuracy: 0.8734\n",
      "Depth: 10, Accuracy: 0.8734\n",
      "Depth: 11, Accuracy: 0.8734\n",
      "Depth: 12, Accuracy: 0.8734\n",
      "Depth: 13, Accuracy: 0.8734\n",
      "Depth: 14, Accuracy: 0.8734\n",
      "Depth: 15, Accuracy: 0.8734\n",
      "Depth: 16, Accuracy: 0.8734\n",
      "Depth: 17, Accuracy: 0.8734\n",
      "Depth: 18, Accuracy: 0.8734\n",
      "Depth: 19, Accuracy: 0.8734\n",
      "Depth: 20, Accuracy: 0.8734\n",
      "Depth: 21, Accuracy: 0.8734\n",
      "Depth: 22, Accuracy: 0.8734\n",
      "Depth: 23, Accuracy: 0.8734\n",
      "Depth: 24, Accuracy: 0.8734\n",
      "Depth: 25, Accuracy: 0.8734\n",
      "Depth: 26, Accuracy: 0.8734\n",
      "Depth: 27, Accuracy: 0.8734\n",
      "Depth: 28, Accuracy: 0.8734\n",
      "Depth: 29, Accuracy: 0.8734\n"
     ]
    }
   ],
   "source": [
    "with open(\"depth_vs_accuracy.txt\", \"w\") as f:\n",
    "    for depth in range(1, 30):  # try depths from 1 to 15\n",
    "        tree = dtree.build_tree(X_train, y_train, max_depth=depth)\n",
    "        y_pred = dtree.predict(tree, X_test)\n",
    "        acc = accuracy_score(y_test, y_pred)\n",
    "        f.write(f\"Depth: {depth}, Accuracy: {acc:.4f}\\n\")\n",
    "        print(f\"Depth: {depth}, Accuracy: {acc:.4f}\")"
   ]
  },
  {
   "cell_type": "code",
   "execution_count": 70,
   "id": "f8664323",
   "metadata": {},
   "outputs": [
    {
     "name": "stdout",
     "output_type": "stream",
     "text": [
      "Depth: 1, Accuracy: 0.9114\n",
      "Depth: 2, Accuracy: 0.9114\n",
      "Depth: 3, Accuracy: 0.9114\n",
      "Depth: 4, Accuracy: 0.9114\n",
      "Depth: 5, Accuracy: 0.8861\n",
      "Depth: 6, Accuracy: 0.8987\n",
      "Depth: 7, Accuracy: 0.8861\n",
      "Depth: 8, Accuracy: 0.8861\n",
      "Depth: 9, Accuracy: 0.8861\n",
      "Depth: 10, Accuracy: 0.8861\n",
      "Depth: 11, Accuracy: 0.8861\n",
      "Depth: 12, Accuracy: 0.8861\n",
      "Depth: 13, Accuracy: 0.8861\n",
      "Depth: 14, Accuracy: 0.8861\n",
      "Depth: 15, Accuracy: 0.8861\n",
      "Depth: 16, Accuracy: 0.8861\n",
      "Depth: 17, Accuracy: 0.8861\n",
      "Depth: 18, Accuracy: 0.8861\n",
      "Depth: 19, Accuracy: 0.8861\n",
      "Depth: 20, Accuracy: 0.8861\n",
      "Depth: 21, Accuracy: 0.8861\n",
      "Depth: 22, Accuracy: 0.8861\n",
      "Depth: 23, Accuracy: 0.8861\n",
      "Depth: 24, Accuracy: 0.8861\n",
      "Depth: 25, Accuracy: 0.8861\n",
      "Depth: 26, Accuracy: 0.8861\n",
      "Depth: 27, Accuracy: 0.8861\n",
      "Depth: 28, Accuracy: 0.8861\n",
      "Depth: 29, Accuracy: 0.8861\n"
     ]
    }
   ],
   "source": [
    "features = [ 'age',  'studytime', 'failures', 'schoolsup', 'famsup',  'nursery',  'internet', 'romantic',  'health',  'Walc', 'G1', 'G2']\n",
    "X = data[features].values\n",
    "y = (data['G3'] >= 10).astype(int).values  # 1 = Pass, 0 = Fail\n",
    "X_train, X_test, y_train, y_test = train_test_split(X, y, test_size=0.2, random_state=42)\n",
    "with open(\"depth_vs_accuracy2.txt\", \"w\") as f:\n",
    "    for depth in range(1, 30):  # try depths from 1 to 15\n",
    "        tree = dtree.build_tree(X_train, y_train, max_depth=depth)\n",
    "        y_pred = dtree.predict(tree, X_test)\n",
    "        acc = accuracy_score(y_test, y_pred)\n",
    "        f.write(f\"Depth: {depth}, Accuracy: {acc:.4f}\\n\")\n",
    "        print(f\"Depth: {depth}, Accuracy: {acc:.4f}\")"
   ]
  },
  {
   "cell_type": "code",
   "execution_count": null,
   "id": "0ac22fa5",
   "metadata": {},
   "outputs": [
    {
     "data": {
      "image/png": "[encoded data removed]",
      "text/plain": [
       "<Figure size 640x480 with 1 Axes>"
      ]
     },
     "metadata": {},
     "output_type": "display_data"
    }
   ],
   "source": [
    "import matplotlib.pyplot as plt\n",
    "features = [ 'age',  'studytime','Medu', 'Fedu', 'failures', 'schoolsup', 'famsup',  'nursery',  'internet', 'romantic',  'health',  'Walc']\n",
    "X = data[features].values\n",
    "y = (data['G3'] >= 10).astype(int).values  # 1 = Pass, 0 = Fail\n",
    "X_train, X_test, y_train, y_test = train_test_split(X, y, test_size=0.2, random_state=42)\n",
    "\n",
    "depths = list(range(1, 16))\n",
    "accuracies = []\n",
    "\n",
    "for depth in depths:\n",
    "    tree = dtree.build_tree(X_train, y_train, max_depth=depth)\n",
    "    y_pred = dtree.predict(tree, X_test)\n",
    "    acc = accuracy_score(y_test, y_pred)\n",
    "    accuracies.append(acc)\n",
    "\n",
    "plt.plot(depths, accuracies, marker='o')\n",
    "plt.xlabel(\"Max Depth\")\n",
    "plt.ylabel(\"Accuracy on Test Set\")\n",
    "plt.title(\"Depth vs Accuracy\")\n",
    "plt.grid(True)\n",
    "plt.show()\n"
   ]
  },
  {
   "cell_type": "code",
   "execution_count": null,
   "id": "1e0d9470",
   "metadata": {},
   "outputs": [
    {
     "name": "stdout",
     "output_type": "stream",
     "text": [
      "Depth: 1, Accuracy: 0.9114\n",
      "Depth: 2, Accuracy: 0.9114\n",
      "Depth: 3, Accuracy: 0.9114\n",
      "Depth: 4, Accuracy: 0.9114\n",
      "Depth: 5, Accuracy: 0.9114\n",
      "Depth: 6, Accuracy: 0.9114\n",
      "Depth: 7, Accuracy: 0.9114\n",
      "Depth: 8, Accuracy: 0.9114\n",
      "Depth: 9, Accuracy: 0.9114\n",
      "Depth: 10, Accuracy: 0.9114\n",
      "Depth: 11, Accuracy: 0.9114\n",
      "Depth: 12, Accuracy: 0.9114\n",
      "Depth: 13, Accuracy: 0.9114\n",
      "Depth: 14, Accuracy: 0.9114\n",
      "Depth: 15, Accuracy: 0.9114\n",
      "Depth: 16, Accuracy: 0.9114\n",
      "Depth: 17, Accuracy: 0.9114\n",
      "Depth: 18, Accuracy: 0.9114\n",
      "Depth: 19, Accuracy: 0.9114\n",
      "Depth: 20, Accuracy: 0.9114\n",
      "Depth: 21, Accuracy: 0.9114\n",
      "Depth: 22, Accuracy: 0.9114\n",
      "Depth: 23, Accuracy: 0.9114\n",
      "Depth: 24, Accuracy: 0.9114\n",
      "Depth: 25, Accuracy: 0.9114\n",
      "Depth: 26, Accuracy: 0.9114\n",
      "Depth: 27, Accuracy: 0.9114\n",
      "Depth: 28, Accuracy: 0.9114\n",
      "Depth: 29, Accuracy: 0.9114\n"
     ]
    }
   ],
   "source": [
    "features = [ 'age',  'studytime', 'failures', 'schoolsup', 'famsup',  'nursery',  'internet', 'romantic',  'health',  'Walc', 'G1', 'G2']\n",
    "X = data[features].values\n",
    "y = (data['G3'] >= 10).astype(int).values  # 1 = Pass, 0 = Fail\n",
    "X_train, X_test, y_train, y_test = train_test_split(X, y, test_size=0.2, random_state=42)\n",
    "with open(\"depth_vs_accuracy2.txt\", \"w\") as f:\n",
    "    for depth in range(1, 30):  # try depths from 1 to 15\n",
    "        tree = dtree.build_tree(X_train, y_train, max_depth=depth)\n",
    "        y_pred = dtree.predict(tree, X_test)\n",
    "        acc = accuracy_score(y_test, y_pred)\n",
    "        f.write(f\"Depth: {depth}, Accuracy: {acc:.4f}\\n\")\n",
    "        print(f\"Depth: {depth}, Accuracy: {acc:.4f}\")"
   ]
  }
 ],
 "metadata": {
  "kernelspec": {
   "display_name": "Python 3",
   "language": "python",
   "name": "python3"
  },
  "language_info": {
   "codemirror_mode": {
    "name": "ipython",
    "version": 3
   },
   "file_extension": ".py",
   "mimetype": "text/x-python",
   "name": "python",
   "nbconvert_exporter": "python",
   "pygments_lexer": "ipython3",
   "version": "3.12.4"
  }
 },
 "nbformat": 4,
 "nbformat_minor": 5
}
